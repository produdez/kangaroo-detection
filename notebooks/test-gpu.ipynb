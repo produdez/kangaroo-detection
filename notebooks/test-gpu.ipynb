{
 "cells": [
  {
   "attachments": {},
   "cell_type": "markdown",
   "metadata": {},
   "source": [
    "```\n",
    "You are expected to have a gpu shown in output below\n",
    "```"
   ]
  },
  {
   "cell_type": "code",
   "execution_count": 1,
   "metadata": {},
   "outputs": [],
   "source": [
    "import sys\n",
    "sys.path.append('../')"
   ]
  },
  {
   "cell_type": "code",
   "execution_count": 2,
   "metadata": {},
   "outputs": [
    {
     "name": "stdout",
     "output_type": "stream",
     "text": [
      "TF Version:  2.1.0\n",
      "------Devices------\n",
      "[name: \"/device:CPU:0\"\n",
      "device_type: \"CPU\"\n",
      "memory_limit: 268435456\n",
      "locality {\n",
      "}\n",
      "incarnation: 1635871608999631729\n",
      ",\n",
      " name: \"/device:GPU:0\"\n",
      "device_type: \"GPU\"\n",
      "memory_limit: 5061476352\n",
      "locality {\n",
      "  bus_id: 1\n",
      "  links {\n",
      "  }\n",
      "}\n",
      "incarnation: 645019105374289811\n",
      "physical_device_desc: \"device: 0, name: NVIDIA GeForce GTX 1060, pci bus id: 0000:01:00.0, compute capability: 6.1\"\n",
      "]\n",
      "--------------------------------\n",
      "Num GPUs Available:  1\n",
      "Has gpu:  True\n",
      "[PhysicalDevice(name='/physical_device:GPU:0', device_type='GPU')]\n"
     ]
    },
    {
     "data": {
      "text/plain": [
       "True"
      ]
     },
     "execution_count": 2,
     "metadata": {},
     "output_type": "execute_result"
    }
   ],
   "source": [
    "from scripts import verify_gpu\n",
    "verify_gpu.run()"
   ]
  },
  {
   "attachments": {},
   "cell_type": "markdown",
   "metadata": {},
   "source": [
    "### If you dont have GPU, output would look like:\n",
    "\n",
    "```\n",
    "TF Version:  2.8.0\n",
    "------Devices------\n",
    "[name: \"/device:CPU:0\"\n",
    "device_type: \"CPU\"\n",
    "memory_limit: 268435456\n",
    "locality {\n",
    "}\n",
    "incarnation: 3926032828102796964\n",
    "xla_global_id: -1\n",
    "]\n",
    "```\n",
    "\n",
    "-------------\n",
    "```\n",
    "Num GPUs Available:  0\n",
    "WARNING:tensorflow:From C:\\Users\\USER\\AppData\\Local\\Temp\\ipykernel_17248\\3493856964.py:2: is_gpu_available (from tensorflow.python.framework.test_util) is deprecated and will be removed in a future version.\n",
    "Instructions for updating:\n",
    "Use `tf.config.list_physical_devices('GPU')` instead.\n",
    "Has gpu:  False\n",
    "[]\n",
    "```"
   ]
  }
 ],
 "metadata": {
  "kernelspec": {
   "display_name": "kangaroo",
   "language": "python",
   "name": "python3"
  },
  "language_info": {
   "codemirror_mode": {
    "name": "ipython",
    "version": 3
   },
   "file_extension": ".py",
   "mimetype": "text/x-python",
   "name": "python",
   "nbconvert_exporter": "python",
   "pygments_lexer": "ipython3",
   "version": "3.7.15"
  },
  "orig_nbformat": 4,
  "vscode": {
   "interpreter": {
    "hash": "05b009044a4ea7e319d593ef85a328ff9d56667471380078d461c879c434317c"
   }
  }
 },
 "nbformat": 4,
 "nbformat_minor": 2
}
