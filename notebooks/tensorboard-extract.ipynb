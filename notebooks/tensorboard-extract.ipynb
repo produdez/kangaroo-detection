{
 "cells": [
  {
   "attachments": {},
   "cell_type": "markdown",
   "metadata": {},
   "source": [
    "### NOTE\n",
    "\n",
    "Notebook might not work due to the log folder is not existed anymore\n",
    "\n",
    "`-> please rename log_folder as the folder where you store training model's checkpoint and logs`"
   ]
  },
  {
   "cell_type": "code",
   "execution_count": 18,
   "metadata": {},
   "outputs": [],
   "source": [
    "log_folder = '../model/training/kangaroo_cfg20230119T1558'"
   ]
  },
  {
   "cell_type": "code",
   "execution_count": 19,
   "metadata": {},
   "outputs": [
    {
     "data": {
      "text/plain": [
       "{'images': [],\n",
       " 'audio': [],\n",
       " 'histograms': [],\n",
       " 'scalars': ['epoch_loss',\n",
       "  'epoch_rpn_class_loss',\n",
       "  'epoch_rpn_bbox_loss',\n",
       "  'epoch_mrcnn_class_loss',\n",
       "  'epoch_mrcnn_bbox_loss',\n",
       "  'epoch_mrcnn_mask_loss',\n",
       "  'epoch_val_loss',\n",
       "  'epoch_val_rpn_class_loss',\n",
       "  'epoch_val_rpn_bbox_loss',\n",
       "  'epoch_val_mrcnn_class_loss',\n",
       "  'epoch_val_mrcnn_bbox_loss',\n",
       "  'epoch_val_mrcnn_mask_loss'],\n",
       " 'distributions': [],\n",
       " 'tensors': [],\n",
       " 'graph': True,\n",
       " 'meta_graph': True,\n",
       " 'run_metadata': []}"
      ]
     },
     "execution_count": 19,
     "metadata": {},
     "output_type": "execute_result"
    }
   ],
   "source": [
    "from tensorboard.backend.event_processing.event_accumulator import EventAccumulator\n",
    "x = EventAccumulator(log_folder)\n",
    "x.Reload()\n",
    "x.Tags()"
   ]
  },
  {
   "cell_type": "code",
   "execution_count": 20,
   "metadata": {},
   "outputs": [
    {
     "data": {
      "text/plain": [
       "[ScalarEvent(wall_time=1674118861.452803, step=0, value=0.6111260652542114),\n",
       " ScalarEvent(wall_time=1674118951.3449779, step=1, value=0.140729159116745),\n",
       " ScalarEvent(wall_time=1674119023.9529805, step=2, value=0.12203934043645859),\n",
       " ScalarEvent(wall_time=1674119096.8240123, step=3, value=0.07084119319915771),\n",
       " ScalarEvent(wall_time=1674119172.0765107, step=4, value=0.05752721428871155)]"
      ]
     },
     "execution_count": 20,
     "metadata": {},
     "output_type": "execute_result"
    }
   ],
   "source": [
    "x.Scalars('epoch_rpn_bbox_loss')"
   ]
  },
  {
   "cell_type": "code",
   "execution_count": 21,
   "metadata": {},
   "outputs": [
    {
     "data": {
      "text/plain": [
       "[ScalarEvent(wall_time=1674118861.453303, step=0, value=0.24116188287734985),\n",
       " ScalarEvent(wall_time=1674118951.3455105, step=1, value=0.29013383388519287),\n",
       " ScalarEvent(wall_time=1674119023.9534805, step=2, value=0.36291491985321045),\n",
       " ScalarEvent(wall_time=1674119096.8240123, step=3, value=0.27075034379959106),\n",
       " ScalarEvent(wall_time=1674119172.0770159, step=4, value=0.32367217540740967)]"
      ]
     },
     "execution_count": 21,
     "metadata": {},
     "output_type": "execute_result"
    }
   ],
   "source": [
    "x.Scalars('epoch_val_rpn_bbox_loss')"
   ]
  },
  {
   "cell_type": "code",
   "execution_count": 22,
   "metadata": {},
   "outputs": [
    {
     "data": {
      "text/plain": [
       "[ScalarEvent(wall_time=1674118861.452803, step=0, value=0.8175920248031616),\n",
       " ScalarEvent(wall_time=1674118951.3455105, step=1, value=0.43281832337379456),\n",
       " ScalarEvent(wall_time=1674119023.9529805, step=2, value=0.3219958245754242),\n",
       " ScalarEvent(wall_time=1674119096.8240123, step=3, value=0.25109046697616577),\n",
       " ScalarEvent(wall_time=1674119172.0765107, step=4, value=0.16171209514141083)]"
      ]
     },
     "execution_count": 22,
     "metadata": {},
     "output_type": "execute_result"
    }
   ],
   "source": [
    "x.Scalars('epoch_mrcnn_bbox_loss')"
   ]
  },
  {
   "cell_type": "code",
   "execution_count": 23,
   "metadata": {},
   "outputs": [
    {
     "data": {
      "text/plain": [
       "[ScalarEvent(wall_time=1674118861.453303, step=0, value=0.6884382367134094),\n",
       " ScalarEvent(wall_time=1674118951.3455105, step=1, value=0.5259882211685181),\n",
       " ScalarEvent(wall_time=1674119023.9534805, step=2, value=0.4439980685710907),\n",
       " ScalarEvent(wall_time=1674119096.824519, step=3, value=0.3185216188430786),\n",
       " ScalarEvent(wall_time=1674119172.0770159, step=4, value=0.31637871265411377)]"
      ]
     },
     "execution_count": 23,
     "metadata": {},
     "output_type": "execute_result"
    }
   ],
   "source": [
    "x.Scalars('epoch_val_mrcnn_bbox_loss')"
   ]
  }
 ],
 "metadata": {
  "kernelspec": {
   "display_name": "test-kangaroo",
   "language": "python",
   "name": "python3"
  },
  "language_info": {
   "codemirror_mode": {
    "name": "ipython",
    "version": 3
   },
   "file_extension": ".py",
   "mimetype": "text/x-python",
   "name": "python",
   "nbconvert_exporter": "python",
   "pygments_lexer": "ipython3",
   "version": "3.8.15"
  },
  "orig_nbformat": 4,
  "vscode": {
   "interpreter": {
    "hash": "1cf74503421b7aa723eaae1f51441771a795ec41f3bed6b6acf489e3faa1f772"
   }
  }
 },
 "nbformat": 4,
 "nbformat_minor": 2
}
